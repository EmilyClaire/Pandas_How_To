{
 "cells": [
  {
   "cell_type": "markdown",
   "metadata": {},
   "source": [
    "# How To Use Pandas"
   ]
  },
  {
   "cell_type": "markdown",
   "metadata": {},
   "source": [
    "This tutorial will go over how to create and manipulate Pandas Series and DataFrames."
   ]
  },
  {
   "cell_type": "markdown",
   "metadata": {},
   "source": [
    "## Table of Contents"
   ]
  },
  {
   "cell_type": "markdown",
   "metadata": {},
   "source": [
    "<br>[Getting Started](#Getting-Started)\n",
    " - [Importing Pandas](#Importing-Pandas)\n",
    " - [Creating a DataFrame](#Creating-a-DataFrame)\n",
    "    - [Creating a DataFrame from a CSV](#Creating-a-DataFrame-from-a-CSV)"
   ]
  },
  {
   "cell_type": "markdown",
   "metadata": {},
   "source": [
    "## Getting Started"
   ]
  },
  {
   "cell_type": "markdown",
   "metadata": {},
   "source": [
    "### Importing Pandas\n",
    "\n",
    "To import Pandas type:\n",
    "<br> 'import pandas as pd'"
   ]
  },
  {
   "cell_type": "code",
   "execution_count": 2,
   "metadata": {},
   "outputs": [],
   "source": [
    "#How to import pandas\n",
    "\n",
    "import pandas as pd"
   ]
  },
  {
   "cell_type": "markdown",
   "metadata": {},
   "source": [
    "## Information on Series and DataFrames "
   ]
  },
  {
   "cell_type": "markdown",
   "metadata": {},
   "source": [
    "### What is a Series?"
   ]
  },
  {
   "cell_type": "markdown",
   "metadata": {},
   "source": [
    "### What is a DataFrame"
   ]
  },
  {
   "cell_type": "markdown",
   "metadata": {},
   "source": [
    "### When to use a Series"
   ]
  },
  {
   "cell_type": "markdown",
   "metadata": {},
   "source": [
    "### When to use a DataFrame?"
   ]
  },
  {
   "cell_type": "markdown",
   "metadata": {},
   "source": [
    "## Creating a Series"
   ]
  },
  {
   "cell_type": "markdown",
   "metadata": {},
   "source": [
    "### Creating a Series from a dictionary"
   ]
  },
  {
   "cell_type": "markdown",
   "metadata": {},
   "source": [
    "## Creating a DataFrame"
   ]
  },
  {
   "cell_type": "markdown",
   "metadata": {},
   "source": [
    "### Creating a DataFrame from multiple Series"
   ]
  },
  {
   "cell_type": "markdown",
   "metadata": {},
   "source": [
    "### Creating a DataFrame from a CSV"
   ]
  },
  {
   "cell_type": "markdown",
   "metadata": {},
   "source": [
    "#### Importing the Whole CSV File\n",
    "\n",
    "If you want to import everything from your .csv file then you simply use this code\n",
    "\n",
    "`my_dataframe = pd.read_csv('my_csv.csv')`\n",
    "\n",
    "`'my_csv.csv'` is the location of the csv file relative to where the jupyter notebook is. If the file is in the same folder as the jupyter notebook then you can just do the name of the file. If the file is somewhere else then you have to use the path of the file."
   ]
  },
  {
   "cell_type": "code",
   "execution_count": 16,
   "metadata": {},
   "outputs": [
    {
     "name": "stdout",
     "output_type": "stream",
     "text": [
      "   ID           Name Type 1  Type 2  HP  Attack  Defense  Sp. Atk  Sp. Def  \\\n",
      "0   1      Bulbasaur  Grass  Poison  45      49       49       65       65   \n",
      "1   2        Ivysaur  Grass  Poison  60      62       63       80       80   \n",
      "2   3       Venusaur  Grass  Poison  80      82       83      100      100   \n",
      "3   4  Mega Venusaur  Grass  Poison  80     100      123      122      120   \n",
      "4   5     Charmander   Fire     NaN  39      52       43       60       50   \n",
      "\n",
      "   Speed  Generation  Legendary  \n",
      "0     45           1      False  \n",
      "1     60           1      False  \n",
      "2     80           1      False  \n",
      "3     80           1      False  \n",
      "4     65           1      False  \n"
     ]
    }
   ],
   "source": [
    "#File in same folder\n",
    "pokemon = pd.read_csv('pokemon.csv')\n",
    "\n",
    "print(pokemon.head())"
   ]
  },
  {
   "cell_type": "code",
   "execution_count": 59,
   "metadata": {},
   "outputs": [
    {
     "name": "stdout",
     "output_type": "stream",
     "text": [
      "     Number            Digimon Stage     Type Attribute  Memory  Equip Slots  \\\n",
      "244     245         Valkyrimon  Mega     Free      Wind      18            3   \n",
      "245     246    ShineGreymon BM  Mega  Vaccine      Fire      22            2   \n",
      "246     247  MirageGaogamon BM  Mega     Data     Light      20            2   \n",
      "247     248         Ravemon BM  Mega  Vaccine      Wind      20            2   \n",
      "248     249         Rosemon BM  Mega     Data     Plant      20            2   \n",
      "\n",
      "     Lv 50 HP  Lv50 SP  Lv50 Atk  Lv50 Def  Lv50 Int  Lv50 Spd  \n",
      "244      1330      139       148       129       129       168  \n",
      "245      1980      114       228       104        84       168  \n",
      "246      1440      124       178       104       158       174  \n",
      "247      1040      133       149       139       144       213  \n",
      "248      1480      143       149       139       159       143  \n"
     ]
    }
   ],
   "source": [
    "#File in a sub folder\n",
    "\n",
    "digimon = pd.read_csv('example/DigiDB_digimonlist.csv')\n",
    "\n",
    "print(digimon.tail())"
   ]
  },
  {
   "cell_type": "markdown",
   "metadata": {},
   "source": [
    "#### Importing Specific Columns from a CSV file\n",
    "If you only want certain columns from a csv file, then you need to use 'usecols'. \n",
    "<br> Example:  `my_dataframe = pd.read_csv('my_csv.csv', usecols = ['Name of column1', 'Name of column 2'])`\n"
   ]
  },
  {
   "cell_type": "code",
   "execution_count": 15,
   "metadata": {},
   "outputs": [
    {
     "name": "stdout",
     "output_type": "stream",
     "text": [
      "            Name Type 1  Type 2\n",
      "0      Bulbasaur  Grass  Poison\n",
      "1        Ivysaur  Grass  Poison\n",
      "2       Venusaur  Grass  Poison\n",
      "3  Mega Venusaur  Grass  Poison\n",
      "4     Charmander   Fire     NaN\n"
     ]
    }
   ],
   "source": [
    "pokemon_name_types = pd.read_csv('pokemon.csv', usecols = ['Name', 'Type 1', 'Type 2'])\n",
    "\n",
    "print(pokemon_name_types.head())"
   ]
  },
  {
   "cell_type": "markdown",
   "metadata": {},
   "source": [
    "## Accessing a Series"
   ]
  },
  {
   "cell_type": "markdown",
   "metadata": {},
   "source": [
    "## Accessing a DataFrame 3***"
   ]
  },
  {
   "cell_type": "markdown",
   "metadata": {},
   "source": [
    "## Manipulating a Series"
   ]
  },
  {
   "cell_type": "markdown",
   "metadata": {},
   "source": [
    "### Adding"
   ]
  },
  {
   "cell_type": "markdown",
   "metadata": {},
   "source": [
    "## Manipulating a DataFrame"
   ]
  },
  {
   "cell_type": "markdown",
   "metadata": {},
   "source": [
    "### Creating a new DataFrame from specific data from 1 specific column\n",
    "\n",
    "Let's say you want to only access items that have a specific value in a certain column. \n",
    "<br> You would use the code `my_specific_items = my_dataframe.loc[my_dataframe['Column Name'] == 'Column Value']`\n",
    "<br> You can also use other boolean operations like less than, greater than, etc\n",
    "<br> `my_specific_items = my_dataframe.loc[my_dataframe['Column Name'] < 4]"
   ]
  },
  {
   "cell_type": "code",
   "execution_count": 50,
   "metadata": {},
   "outputs": [
    {
     "name": "stdout",
     "output_type": "stream",
     "text": [
      "      ID           Name    Type 1  Type 2  HP  Attack  Defense  Sp. Atk  \\\n",
      "19    20  Mega Beedrill       Bug  Poison  65     150       40       15   \n",
      "23    24   Mega Pidgeot    Normal  Flying  83      80       80      135   \n",
      "71    72  Mega Alakazam   Psychic     NaN  55      50       65      175   \n",
      "102  103    Mega Gengar     Ghost  Poison  60      65       80      170   \n",
      "109  110      Electrode  Electric     NaN  60      50       70       80   \n",
      "\n",
      "     Sp. Def  Speed  Generation  Legendary  \n",
      "19        80    145           1      False  \n",
      "23        80    121           1      False  \n",
      "71        95    150           1      False  \n",
      "102       95    130           1      False  \n",
      "109       80    140           1      False  \n"
     ]
    }
   ],
   "source": [
    "#Getting the digimon that have speed > 70\n",
    "pokemon_fast = pokemon.loc[pokemon['Speed'] > 120]\n",
    "\n",
    "print(pokemon_fast.head())"
   ]
  },
  {
   "cell_type": "markdown",
   "metadata": {},
   "source": [
    "### Conclusion\n",
    "\n",
    "All pokemon that are faster than 120 not grass pokemon."
   ]
  },
  {
   "cell_type": "markdown",
   "metadata": {},
   "source": [
    "#### Creating a new DataFrame from specific data from multiple columns\n",
    "\n"
   ]
  },
  {
   "cell_type": "code",
   "execution_count": 58,
   "metadata": {},
   "outputs": [
    {
     "name": "stdout",
     "output_type": "stream",
     "text": [
      "   Number  Digimon Stage  Type Attribute  Memory  Equip Slots  Lv 50 HP  \\\n",
      "0       1  Kuramon  Baby  Free   Neutral       2            0       590   \n",
      "1       2  Pabumon  Baby  Free   Neutral       2            0       950   \n",
      "2       3  Punimon  Baby  Free   Neutral       2            0       870   \n",
      "3       4  Botamon  Baby  Free   Neutral       2            0       690   \n",
      "4       5  Poyomon  Baby  Free   Neutral       2            0       540   \n",
      "\n",
      "   Lv50 SP  Lv50 Atk  Lv50 Def  Lv50 Int  Lv50 Spd  \n",
      "0       77        79        69        68        95  \n",
      "1       62        76        76        69        68  \n",
      "2       50        97        87        50        75  \n",
      "3       68        77        95        76        61  \n",
      "4       98        54        59        95        86  \n"
     ]
    }
   ],
   "source": [
    "digimon_mega = digimon.loc[digimon['Stage'] == 'mega']\n",
    "\n",
    "print(digimon_mega_light_neutral.head())"
   ]
  },
  {
   "cell_type": "code",
   "execution_count": 44,
   "metadata": {},
   "outputs": [
    {
     "name": "stdout",
     "output_type": "stream",
     "text": [
      "     Number            Digimon Stage     Type Attribute  Memory  Equip Slots  \\\n",
      "166     167           Alphamon  Mega  Vaccine   Neutral      22            1   \n",
      "170     171  Imperialdramon FM  Mega     Free   Neutral      20            2   \n",
      "186     187             Jesmon  Mega     Data   Neutral      22            1   \n",
      "206     207    PlatinumNumemon  Mega    Virus   Neutral      16            3   \n",
      "208     209      PrinceMamemon  Mega     Data   Neutral      16            3   \n",
      "216     217           Mastemon  Mega  Vaccine   Neutral      22            1   \n",
      "218     219         Minervamon  Mega    Virus   Neutral      20            1   \n",
      "175     176          Ophanimon  Mega  Vaccine     Light      20            2   \n",
      "183     184    Kerpymon (Good)  Mega  Vaccine     Light      20            1   \n",
      "185     186          Sakuyamon  Mega     Data     Light      18            3   \n",
      "187     188       ShineGreymon  Mega  Vaccine     Light      20            2   \n",
      "188     189           Justimon  Mega  Vaccine     Light      18            3   \n",
      "189     190       Kentaurosmon  Mega  Vaccine     Light      22            1   \n",
      "190     191         Seraphimon  Mega  Vaccine     Light      20            2   \n",
      "197     198         Gallantmon  Mega    Virus     Light      22            1   \n",
      "199     200         Leopardmon  Mega     Data     Light      22            1   \n",
      "214     215        Magnadramon  Mega  Vaccine     Light      20            2   \n",
      "246     247  MirageGaogamon BM  Mega     Data     Light      20            2   \n",
      "\n",
      "     Lv 50 HP  Lv50 SP  Lv50 Atk  Lv50 Def  Lv50 Int  Lv50 Spd  \n",
      "166      1390      128       158       183       158       130  \n",
      "170      1780      114       198       124       114       153  \n",
      "186      1480      119       198       149       114       168  \n",
      "206      1830      132        94       178       109       120  \n",
      "208      1630      137       104       173       109       130  \n",
      "216      1340      144       173       134       173       149  \n",
      "218      1580      114       208       114       119       168  \n",
      "175       840      183       104       164       193       153  \n",
      "183      1290      188        94       104       208       158  \n",
      "185       990      178        94       114       188       173  \n",
      "187      1880      114       203       109        84       158  \n",
      "188      1530       99       193       158        99       144  \n",
      "189      1140      153       139       154       154       183  \n",
      "190      1480      162        94       144       198       135  \n",
      "197      1480      148       149       154       149       148  \n",
      "199       990      188       124       114       183       188  \n",
      "214      1880      168        89       124       183       129  \n",
      "246      1440      124       178       104       158       174  \n"
     ]
    }
   ],
   "source": [
    "#Getting the digimon that are stage mega \n",
    "digimon_mega= digimon[digimon['Stage'] == 'Mega']\n",
    "\n",
    "#Finding the digimon that have the neutral attribute from the list of mega stage digimon\n",
    "digimon_mega_neutral = digimon_mega[digimon_mega['Attribute'] == 'Neutral']\n",
    "\n",
    "#Finding the digimon that have light attrivute from the list of mega stage digimon\n",
    "digimon_mega_light = digimon_mega[digimon_mega['Attribute'] == 'Light']\n",
    "\n",
    "#combining the mega stage digimon that have neutral attribute\n",
    "# and the mega stage digimon that have light attribute\n",
    "digimon_mega_neutral_light = pd.concat([digimon_mega_neutral, digimon_mega_light])\n",
    "\n",
    "print(digimon_mega_neutral_light)"
   ]
  },
  {
   "cell_type": "markdown",
   "metadata": {},
   "source": [
    "### Combining DataFrames"
   ]
  },
  {
   "cell_type": "markdown",
   "metadata": {},
   "source": [
    "## NaN 2***"
   ]
  },
  {
   "cell_type": "markdown",
   "metadata": {},
   "source": [
    "# Resources\n",
    "\n",
    "how to make dataframes from csv files - https://chrisalbon.com/python/data_wrangling/pandas_dataframe_importing_csv/\n",
    "<br>pokemon csv file - https://www.kaggle.com/poornimashanbhag/pokemoncsv\n",
    "<br>digimon csv file - https://www.kaggle.com/rtatman/digidb\n",
    "<br> How to use get specific columns from a csv file - https://stackoverflow.com/questions/26063231/read-specific-columns-with-pandas-or-other-python-module\n",
    "<br> How to combine DataFrames - https://pandas.pydata.org/pandas-docs/stable/merging.html"
   ]
  },
  {
   "cell_type": "code",
   "execution_count": null,
   "metadata": {},
   "outputs": [],
   "source": []
  }
 ],
 "metadata": {
  "kernelspec": {
   "display_name": "Python [default]",
   "language": "python",
   "name": "python3"
  },
  "language_info": {
   "codemirror_mode": {
    "name": "ipython",
    "version": 3
   },
   "file_extension": ".py",
   "mimetype": "text/x-python",
   "name": "python",
   "nbconvert_exporter": "python",
   "pygments_lexer": "ipython3",
   "version": "3.6.5"
  }
 },
 "nbformat": 4,
 "nbformat_minor": 2
}
