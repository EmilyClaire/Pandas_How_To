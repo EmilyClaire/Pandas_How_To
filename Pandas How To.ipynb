{
 "cells": [
  {
   "cell_type": "markdown",
   "metadata": {
    "toc": true
   },
   "source": [
    "<h1>Table of Contents<span class=\"tocSkip\"></span></h1>\n",
    "<div class=\"toc\"><ul class=\"toc-item\"><li><span><a href=\"#Getting-Started\" data-toc-modified-id=\"Getting-Started-1\"><span class=\"toc-item-num\">1&nbsp;&nbsp;</span>Getting Started</a></span><ul class=\"toc-item\"><li><span><a href=\"#Importing-Pandas\" data-toc-modified-id=\"Importing-Pandas-1.1\"><span class=\"toc-item-num\">1.1&nbsp;&nbsp;</span>Importing Pandas</a></span></li></ul></li><li><span><a href=\"#Information-on-Series-and-DataFrames\" data-toc-modified-id=\"Information-on-Series-and-DataFrames-2\"><span class=\"toc-item-num\">2&nbsp;&nbsp;</span>Information on Series and DataFrames</a></span><ul class=\"toc-item\"><li><span><a href=\"#What-is-a-Series?\" data-toc-modified-id=\"What-is-a-Series?-2.1\"><span class=\"toc-item-num\">2.1&nbsp;&nbsp;</span>What is a Series?</a></span></li><li><span><a href=\"#What-is-a-DataFrame\" data-toc-modified-id=\"What-is-a-DataFrame-2.2\"><span class=\"toc-item-num\">2.2&nbsp;&nbsp;</span>What is a DataFrame</a></span></li><li><span><a href=\"#When-to-use-a-Series\" data-toc-modified-id=\"When-to-use-a-Series-2.3\"><span class=\"toc-item-num\">2.3&nbsp;&nbsp;</span>When to use a Series</a></span></li><li><span><a href=\"#When-to-use-a-DataFrame?\" data-toc-modified-id=\"When-to-use-a-DataFrame?-2.4\"><span class=\"toc-item-num\">2.4&nbsp;&nbsp;</span>When to use a DataFrame?</a></span></li></ul></li><li><span><a href=\"#Creating-a-Series\" data-toc-modified-id=\"Creating-a-Series-3\"><span class=\"toc-item-num\">3&nbsp;&nbsp;</span>Creating a Series</a></span><ul class=\"toc-item\"><li><span><a href=\"#Creating-a-Series-from-a-dictionary\" data-toc-modified-id=\"Creating-a-Series-from-a-dictionary-3.1\"><span class=\"toc-item-num\">3.1&nbsp;&nbsp;</span>Creating a Series from a dictionary</a></span></li></ul></li><li><span><a href=\"#Creating-a-DataFrame\" data-toc-modified-id=\"Creating-a-DataFrame-4\"><span class=\"toc-item-num\">4&nbsp;&nbsp;</span>Creating a DataFrame</a></span><ul class=\"toc-item\"><li><span><a href=\"#Creating-a-DataFrame-from-multiple-Series\" data-toc-modified-id=\"Creating-a-DataFrame-from-multiple-Series-4.1\"><span class=\"toc-item-num\">4.1&nbsp;&nbsp;</span>Creating a DataFrame from multiple Series</a></span></li><li><span><a href=\"#Creating-a-DataFrame-from-a-CSV\" data-toc-modified-id=\"Creating-a-DataFrame-from-a-CSV-4.2\"><span class=\"toc-item-num\">4.2&nbsp;&nbsp;</span>Creating a DataFrame from a CSV</a></span><ul class=\"toc-item\"><li><span><a href=\"#Importing-the-Whole-CSV-File\" data-toc-modified-id=\"Importing-the-Whole-CSV-File-4.2.1\"><span class=\"toc-item-num\">4.2.1&nbsp;&nbsp;</span>Importing the Whole CSV File</a></span></li><li><span><a href=\"#Importing-Specific-Columns-from-a-CSV-file\" data-toc-modified-id=\"Importing-Specific-Columns-from-a-CSV-file-4.2.2\"><span class=\"toc-item-num\">4.2.2&nbsp;&nbsp;</span>Importing Specific Columns from a CSV file</a></span></li></ul></li></ul></li><li><span><a href=\"#Accessing-a-Series\" data-toc-modified-id=\"Accessing-a-Series-5\"><span class=\"toc-item-num\">5&nbsp;&nbsp;</span>Accessing a Series</a></span></li><li><span><a href=\"#Accessing-a-DataFrame-3***\" data-toc-modified-id=\"Accessing-a-DataFrame-3***-6\"><span class=\"toc-item-num\">6&nbsp;&nbsp;</span>Accessing a DataFrame 3***</a></span></li><li><span><a href=\"#Manipulating-a-Series\" data-toc-modified-id=\"Manipulating-a-Series-7\"><span class=\"toc-item-num\">7&nbsp;&nbsp;</span>Manipulating a Series</a></span><ul class=\"toc-item\"><li><span><a href=\"#Adding\" data-toc-modified-id=\"Adding-7.1\"><span class=\"toc-item-num\">7.1&nbsp;&nbsp;</span>Adding</a></span></li></ul></li><li><span><a href=\"#Manipulating-a-DataFrame\" data-toc-modified-id=\"Manipulating-a-DataFrame-8\"><span class=\"toc-item-num\">8&nbsp;&nbsp;</span>Manipulating a DataFrame</a></span><ul class=\"toc-item\"><li><span><a href=\"#Creating-a-new-DataFrame-from-specific-data-from-1-specific-column\" data-toc-modified-id=\"Creating-a-new-DataFrame-from-specific-data-from-1-specific-column-8.1\"><span class=\"toc-item-num\">8.1&nbsp;&nbsp;</span>Creating a new DataFrame from specific data from 1 specific column</a></span><ul class=\"toc-item\"><li><span><a href=\"#Conclusion\" data-toc-modified-id=\"Conclusion-8.1.1\"><span class=\"toc-item-num\">8.1.1&nbsp;&nbsp;</span>Conclusion</a></span></li></ul></li><li><span><a href=\"#Creating-a-new-DataFrame-from-specific-data-from-multiple-columns\" data-toc-modified-id=\"Creating-a-new-DataFrame-from-specific-data-from-multiple-columns-8.2\"><span class=\"toc-item-num\">8.2&nbsp;&nbsp;</span>Creating a new DataFrame from specific data from multiple columns</a></span></li><li><span><a href=\"#Combining-DataFrames\" data-toc-modified-id=\"Combining-DataFrames-8.3\"><span class=\"toc-item-num\">8.3&nbsp;&nbsp;</span>Combining DataFrames</a></span></li></ul></li><li><span><a href=\"#Handling-NaN\" data-toc-modified-id=\"Handling-NaN-9\"><span class=\"toc-item-num\">9&nbsp;&nbsp;</span>Handling NaN</a></span><ul class=\"toc-item\"><li><span><a href=\"#Counting-number-of-NaN's\" data-toc-modified-id=\"Counting-number-of-NaN's-9.1\"><span class=\"toc-item-num\">9.1&nbsp;&nbsp;</span>Counting number of NaN's</a></span></li><li><span><a href=\"#Removing-NaN's\" data-toc-modified-id=\"Removing-NaN's-9.2\"><span class=\"toc-item-num\">9.2&nbsp;&nbsp;</span>Removing NaN's</a></span><ul class=\"toc-item\"><li><span><a href=\"#Removing-Columns-with-NaN's\" data-toc-modified-id=\"Removing-Columns-with-NaN's-9.2.1\"><span class=\"toc-item-num\">9.2.1&nbsp;&nbsp;</span>Removing Columns with NaN's</a></span></li></ul></li><li><span><a href=\"#Replacing-NaN's\" data-toc-modified-id=\"Replacing-NaN's-9.3\"><span class=\"toc-item-num\">9.3&nbsp;&nbsp;</span>Replacing NaN's</a></span></li></ul></li><li><span><a href=\"#Resources\" data-toc-modified-id=\"Resources-10\"><span class=\"toc-item-num\">10&nbsp;&nbsp;</span>Resources</a></span></li></ul></div>"
   ]
  },
  {
   "cell_type": "markdown",
   "metadata": {},
   "source": [
    "# How To Use Pandas"
   ]
  },
  {
   "cell_type": "markdown",
   "metadata": {},
   "source": [
    "This tutorial will go over how to create and manipulate Pandas Series and DataFrames."
   ]
  },
  {
   "cell_type": "markdown",
   "metadata": {},
   "source": [
    "## Getting Started"
   ]
  },
  {
   "cell_type": "markdown",
   "metadata": {},
   "source": [
    "### Importing Pandas\n",
    "\n",
    "To import Pandas type:\n",
    "<br> 'import pandas as pd'"
   ]
  },
  {
   "cell_type": "code",
   "execution_count": 4,
   "metadata": {},
   "outputs": [],
   "source": [
    "#How to import pandas\n",
    "\n",
    "import pandas as pd"
   ]
  },
  {
   "cell_type": "markdown",
   "metadata": {},
   "source": [
    "## Information on Series and DataFrames "
   ]
  },
  {
   "cell_type": "markdown",
   "metadata": {},
   "source": [
    "### What is a Series?"
   ]
  },
  {
   "cell_type": "markdown",
   "metadata": {},
   "source": [
    "### What is a DataFrame"
   ]
  },
  {
   "cell_type": "markdown",
   "metadata": {},
   "source": [
    "### When to use a Series"
   ]
  },
  {
   "cell_type": "markdown",
   "metadata": {},
   "source": [
    "### When to use a DataFrame?"
   ]
  },
  {
   "cell_type": "markdown",
   "metadata": {},
   "source": [
    "## Creating a Series"
   ]
  },
  {
   "cell_type": "markdown",
   "metadata": {},
   "source": [
    "### Creating a Series from a dictionary"
   ]
  },
  {
   "cell_type": "markdown",
   "metadata": {},
   "source": [
    "## Creating a DataFrame"
   ]
  },
  {
   "cell_type": "markdown",
   "metadata": {},
   "source": [
    "### Creating a DataFrame from multiple Series"
   ]
  },
  {
   "cell_type": "markdown",
   "metadata": {},
   "source": [
    "### Creating a DataFrame from a CSV"
   ]
  },
  {
   "cell_type": "markdown",
   "metadata": {},
   "source": [
    "#### Importing the Whole CSV File\n",
    "\n",
    "If you want to import everything from your .csv file then you use this code, where my_dataframe is the name of the dataframe you are creating and my_csv.csv is the name of file that already exists that you are importing.\n",
    "\n",
    "`my_dataframe = pd.read_csv('my_csv.csv')`\n",
    "\n",
    "`'my_csv.csv'` is the location of the csv file relative to where the jupyter notebook is. If the file is in the same folder as the jupyter notebook then you can just use the name of the file. If the file is somewhere else then you have to use the path of the file."
   ]
  },
  {
   "cell_type": "code",
   "execution_count": 41,
   "metadata": {},
   "outputs": [
    {
     "data": {
      "text/html": [
       "<div>\n",
       "<style scoped>\n",
       "    .dataframe tbody tr th:only-of-type {\n",
       "        vertical-align: middle;\n",
       "    }\n",
       "\n",
       "    .dataframe tbody tr th {\n",
       "        vertical-align: top;\n",
       "    }\n",
       "\n",
       "    .dataframe thead th {\n",
       "        text-align: right;\n",
       "    }\n",
       "</style>\n",
       "<table border=\"1\" class=\"dataframe\">\n",
       "  <thead>\n",
       "    <tr style=\"text-align: right;\">\n",
       "      <th></th>\n",
       "      <th>ID</th>\n",
       "      <th>Name</th>\n",
       "      <th>Type 1</th>\n",
       "      <th>Type 2</th>\n",
       "      <th>HP</th>\n",
       "      <th>Attack</th>\n",
       "      <th>Defense</th>\n",
       "      <th>Sp. Atk</th>\n",
       "      <th>Sp. Def</th>\n",
       "      <th>Speed</th>\n",
       "      <th>Generation</th>\n",
       "      <th>Legendary</th>\n",
       "    </tr>\n",
       "  </thead>\n",
       "  <tbody>\n",
       "    <tr>\n",
       "      <th>0</th>\n",
       "      <td>1</td>\n",
       "      <td>Bulbasaur</td>\n",
       "      <td>Grass</td>\n",
       "      <td>Poison</td>\n",
       "      <td>45</td>\n",
       "      <td>49</td>\n",
       "      <td>49</td>\n",
       "      <td>65</td>\n",
       "      <td>65</td>\n",
       "      <td>45</td>\n",
       "      <td>1</td>\n",
       "      <td>False</td>\n",
       "    </tr>\n",
       "    <tr>\n",
       "      <th>1</th>\n",
       "      <td>2</td>\n",
       "      <td>Ivysaur</td>\n",
       "      <td>Grass</td>\n",
       "      <td>Poison</td>\n",
       "      <td>60</td>\n",
       "      <td>62</td>\n",
       "      <td>63</td>\n",
       "      <td>80</td>\n",
       "      <td>80</td>\n",
       "      <td>60</td>\n",
       "      <td>1</td>\n",
       "      <td>False</td>\n",
       "    </tr>\n",
       "    <tr>\n",
       "      <th>2</th>\n",
       "      <td>3</td>\n",
       "      <td>Venusaur</td>\n",
       "      <td>Grass</td>\n",
       "      <td>Poison</td>\n",
       "      <td>80</td>\n",
       "      <td>82</td>\n",
       "      <td>83</td>\n",
       "      <td>100</td>\n",
       "      <td>100</td>\n",
       "      <td>80</td>\n",
       "      <td>1</td>\n",
       "      <td>False</td>\n",
       "    </tr>\n",
       "    <tr>\n",
       "      <th>3</th>\n",
       "      <td>4</td>\n",
       "      <td>Mega Venusaur</td>\n",
       "      <td>Grass</td>\n",
       "      <td>Poison</td>\n",
       "      <td>80</td>\n",
       "      <td>100</td>\n",
       "      <td>123</td>\n",
       "      <td>122</td>\n",
       "      <td>120</td>\n",
       "      <td>80</td>\n",
       "      <td>1</td>\n",
       "      <td>False</td>\n",
       "    </tr>\n",
       "    <tr>\n",
       "      <th>4</th>\n",
       "      <td>5</td>\n",
       "      <td>Charmander</td>\n",
       "      <td>Fire</td>\n",
       "      <td>NaN</td>\n",
       "      <td>39</td>\n",
       "      <td>52</td>\n",
       "      <td>43</td>\n",
       "      <td>60</td>\n",
       "      <td>50</td>\n",
       "      <td>65</td>\n",
       "      <td>1</td>\n",
       "      <td>False</td>\n",
       "    </tr>\n",
       "  </tbody>\n",
       "</table>\n",
       "</div>"
      ],
      "text/plain": [
       "   ID           Name Type 1  Type 2  HP  Attack  Defense  Sp. Atk  Sp. Def  \\\n",
       "0   1      Bulbasaur  Grass  Poison  45      49       49       65       65   \n",
       "1   2        Ivysaur  Grass  Poison  60      62       63       80       80   \n",
       "2   3       Venusaur  Grass  Poison  80      82       83      100      100   \n",
       "3   4  Mega Venusaur  Grass  Poison  80     100      123      122      120   \n",
       "4   5     Charmander   Fire     NaN  39      52       43       60       50   \n",
       "\n",
       "   Speed  Generation  Legendary  \n",
       "0     45           1      False  \n",
       "1     60           1      False  \n",
       "2     80           1      False  \n",
       "3     80           1      False  \n",
       "4     65           1      False  "
      ]
     },
     "execution_count": 41,
     "metadata": {},
     "output_type": "execute_result"
    }
   ],
   "source": [
    "#File in same folder\n",
    "pokemon = pd.read_csv('pokemon.csv')\n",
    "\n",
    "pokemon.head()"
   ]
  },
  {
   "cell_type": "code",
   "execution_count": 42,
   "metadata": {},
   "outputs": [
    {
     "data": {
      "text/html": [
       "<div>\n",
       "<style scoped>\n",
       "    .dataframe tbody tr th:only-of-type {\n",
       "        vertical-align: middle;\n",
       "    }\n",
       "\n",
       "    .dataframe tbody tr th {\n",
       "        vertical-align: top;\n",
       "    }\n",
       "\n",
       "    .dataframe thead th {\n",
       "        text-align: right;\n",
       "    }\n",
       "</style>\n",
       "<table border=\"1\" class=\"dataframe\">\n",
       "  <thead>\n",
       "    <tr style=\"text-align: right;\">\n",
       "      <th></th>\n",
       "      <th>Number</th>\n",
       "      <th>Digimon</th>\n",
       "      <th>Stage</th>\n",
       "      <th>Type</th>\n",
       "      <th>Attribute</th>\n",
       "      <th>Memory</th>\n",
       "      <th>Equip Slots</th>\n",
       "      <th>Lv 50 HP</th>\n",
       "      <th>Lv50 SP</th>\n",
       "      <th>Lv50 Atk</th>\n",
       "      <th>Lv50 Def</th>\n",
       "      <th>Lv50 Int</th>\n",
       "      <th>Lv50 Spd</th>\n",
       "    </tr>\n",
       "  </thead>\n",
       "  <tbody>\n",
       "    <tr>\n",
       "      <th>244</th>\n",
       "      <td>245</td>\n",
       "      <td>Valkyrimon</td>\n",
       "      <td>Mega</td>\n",
       "      <td>Free</td>\n",
       "      <td>Wind</td>\n",
       "      <td>18</td>\n",
       "      <td>3</td>\n",
       "      <td>1330</td>\n",
       "      <td>139</td>\n",
       "      <td>148</td>\n",
       "      <td>129</td>\n",
       "      <td>129</td>\n",
       "      <td>168</td>\n",
       "    </tr>\n",
       "    <tr>\n",
       "      <th>245</th>\n",
       "      <td>246</td>\n",
       "      <td>ShineGreymon BM</td>\n",
       "      <td>Mega</td>\n",
       "      <td>Vaccine</td>\n",
       "      <td>Fire</td>\n",
       "      <td>22</td>\n",
       "      <td>2</td>\n",
       "      <td>1980</td>\n",
       "      <td>114</td>\n",
       "      <td>228</td>\n",
       "      <td>104</td>\n",
       "      <td>84</td>\n",
       "      <td>168</td>\n",
       "    </tr>\n",
       "    <tr>\n",
       "      <th>246</th>\n",
       "      <td>247</td>\n",
       "      <td>MirageGaogamon BM</td>\n",
       "      <td>Mega</td>\n",
       "      <td>Data</td>\n",
       "      <td>Light</td>\n",
       "      <td>20</td>\n",
       "      <td>2</td>\n",
       "      <td>1440</td>\n",
       "      <td>124</td>\n",
       "      <td>178</td>\n",
       "      <td>104</td>\n",
       "      <td>158</td>\n",
       "      <td>174</td>\n",
       "    </tr>\n",
       "    <tr>\n",
       "      <th>247</th>\n",
       "      <td>248</td>\n",
       "      <td>Ravemon BM</td>\n",
       "      <td>Mega</td>\n",
       "      <td>Vaccine</td>\n",
       "      <td>Wind</td>\n",
       "      <td>20</td>\n",
       "      <td>2</td>\n",
       "      <td>1040</td>\n",
       "      <td>133</td>\n",
       "      <td>149</td>\n",
       "      <td>139</td>\n",
       "      <td>144</td>\n",
       "      <td>213</td>\n",
       "    </tr>\n",
       "    <tr>\n",
       "      <th>248</th>\n",
       "      <td>249</td>\n",
       "      <td>Rosemon BM</td>\n",
       "      <td>Mega</td>\n",
       "      <td>Data</td>\n",
       "      <td>Plant</td>\n",
       "      <td>20</td>\n",
       "      <td>2</td>\n",
       "      <td>1480</td>\n",
       "      <td>143</td>\n",
       "      <td>149</td>\n",
       "      <td>139</td>\n",
       "      <td>159</td>\n",
       "      <td>143</td>\n",
       "    </tr>\n",
       "  </tbody>\n",
       "</table>\n",
       "</div>"
      ],
      "text/plain": [
       "     Number            Digimon Stage     Type Attribute  Memory  Equip Slots  \\\n",
       "244     245         Valkyrimon  Mega     Free      Wind      18            3   \n",
       "245     246    ShineGreymon BM  Mega  Vaccine      Fire      22            2   \n",
       "246     247  MirageGaogamon BM  Mega     Data     Light      20            2   \n",
       "247     248         Ravemon BM  Mega  Vaccine      Wind      20            2   \n",
       "248     249         Rosemon BM  Mega     Data     Plant      20            2   \n",
       "\n",
       "     Lv 50 HP  Lv50 SP  Lv50 Atk  Lv50 Def  Lv50 Int  Lv50 Spd  \n",
       "244      1330      139       148       129       129       168  \n",
       "245      1980      114       228       104        84       168  \n",
       "246      1440      124       178       104       158       174  \n",
       "247      1040      133       149       139       144       213  \n",
       "248      1480      143       149       139       159       143  "
      ]
     },
     "execution_count": 42,
     "metadata": {},
     "output_type": "execute_result"
    }
   ],
   "source": [
    "#File in a sub folder called example\n",
    "\n",
    "digimon = pd.read_csv('example/DigiDB_digimonlist.csv')\n",
    "\n",
    "digimon.tail()"
   ]
  },
  {
   "cell_type": "markdown",
   "metadata": {},
   "source": [
    "#### Importing Specific Columns from a CSV file\n",
    "If you only want certain columns from a csv file, then you need to use 'usecols'. \n",
    "<br> Example:  `my_dataframe = pd.read_csv('my_csv.csv', usecols = ['Name of column1', 'Name of column 2'])`\n"
   ]
  },
  {
   "cell_type": "code",
   "execution_count": 43,
   "metadata": {},
   "outputs": [
    {
     "data": {
      "text/html": [
       "<div>\n",
       "<style scoped>\n",
       "    .dataframe tbody tr th:only-of-type {\n",
       "        vertical-align: middle;\n",
       "    }\n",
       "\n",
       "    .dataframe tbody tr th {\n",
       "        vertical-align: top;\n",
       "    }\n",
       "\n",
       "    .dataframe thead th {\n",
       "        text-align: right;\n",
       "    }\n",
       "</style>\n",
       "<table border=\"1\" class=\"dataframe\">\n",
       "  <thead>\n",
       "    <tr style=\"text-align: right;\">\n",
       "      <th></th>\n",
       "      <th>Name</th>\n",
       "      <th>Type 1</th>\n",
       "      <th>Type 2</th>\n",
       "    </tr>\n",
       "  </thead>\n",
       "  <tbody>\n",
       "    <tr>\n",
       "      <th>0</th>\n",
       "      <td>Bulbasaur</td>\n",
       "      <td>Grass</td>\n",
       "      <td>Poison</td>\n",
       "    </tr>\n",
       "    <tr>\n",
       "      <th>1</th>\n",
       "      <td>Ivysaur</td>\n",
       "      <td>Grass</td>\n",
       "      <td>Poison</td>\n",
       "    </tr>\n",
       "    <tr>\n",
       "      <th>2</th>\n",
       "      <td>Venusaur</td>\n",
       "      <td>Grass</td>\n",
       "      <td>Poison</td>\n",
       "    </tr>\n",
       "    <tr>\n",
       "      <th>3</th>\n",
       "      <td>Mega Venusaur</td>\n",
       "      <td>Grass</td>\n",
       "      <td>Poison</td>\n",
       "    </tr>\n",
       "    <tr>\n",
       "      <th>4</th>\n",
       "      <td>Charmander</td>\n",
       "      <td>Fire</td>\n",
       "      <td>NaN</td>\n",
       "    </tr>\n",
       "  </tbody>\n",
       "</table>\n",
       "</div>"
      ],
      "text/plain": [
       "            Name Type 1  Type 2\n",
       "0      Bulbasaur  Grass  Poison\n",
       "1        Ivysaur  Grass  Poison\n",
       "2       Venusaur  Grass  Poison\n",
       "3  Mega Venusaur  Grass  Poison\n",
       "4     Charmander   Fire     NaN"
      ]
     },
     "execution_count": 43,
     "metadata": {},
     "output_type": "execute_result"
    }
   ],
   "source": [
    "pokemon_name_types = pd.read_csv('pokemon.csv', usecols = ['Name', 'Type 1', 'Type 2'])\n",
    "\n",
    "pokemon_name_types.head()"
   ]
  },
  {
   "cell_type": "markdown",
   "metadata": {},
   "source": [
    "## Accessing a Series"
   ]
  },
  {
   "cell_type": "markdown",
   "metadata": {},
   "source": [
    "## Accessing a DataFrame 3***"
   ]
  },
  {
   "cell_type": "markdown",
   "metadata": {},
   "source": [
    "## Manipulating a Series"
   ]
  },
  {
   "cell_type": "markdown",
   "metadata": {},
   "source": [
    "### Adding"
   ]
  },
  {
   "cell_type": "markdown",
   "metadata": {},
   "source": [
    "## Manipulating a DataFrame"
   ]
  },
  {
   "cell_type": "markdown",
   "metadata": {},
   "source": [
    "### Creating a new DataFrame from specific data from 1 specific column\n",
    "\n",
    "Let's say you want to only access items that have a specific value in a certain column. \n",
    "<br> You would use the code `my_specific_items = my_dataframe.loc[my_dataframe['Column Name'] == 'Column Value']`\n",
    "<br> You can also use other boolean operations like less than, greater than, etc\n",
    "<br> `my_specific_items = my_dataframe.loc[my_dataframe['Column Name'] < 4]"
   ]
  },
  {
   "cell_type": "code",
   "execution_count": 44,
   "metadata": {},
   "outputs": [
    {
     "data": {
      "text/html": [
       "<div>\n",
       "<style scoped>\n",
       "    .dataframe tbody tr th:only-of-type {\n",
       "        vertical-align: middle;\n",
       "    }\n",
       "\n",
       "    .dataframe tbody tr th {\n",
       "        vertical-align: top;\n",
       "    }\n",
       "\n",
       "    .dataframe thead th {\n",
       "        text-align: right;\n",
       "    }\n",
       "</style>\n",
       "<table border=\"1\" class=\"dataframe\">\n",
       "  <thead>\n",
       "    <tr style=\"text-align: right;\">\n",
       "      <th></th>\n",
       "      <th>ID</th>\n",
       "      <th>Name</th>\n",
       "      <th>Type 1</th>\n",
       "      <th>Type 2</th>\n",
       "      <th>HP</th>\n",
       "      <th>Attack</th>\n",
       "      <th>Defense</th>\n",
       "      <th>Sp. Atk</th>\n",
       "      <th>Sp. Def</th>\n",
       "      <th>Speed</th>\n",
       "      <th>Generation</th>\n",
       "      <th>Legendary</th>\n",
       "    </tr>\n",
       "  </thead>\n",
       "  <tbody>\n",
       "    <tr>\n",
       "      <th>19</th>\n",
       "      <td>20</td>\n",
       "      <td>Mega Beedrill</td>\n",
       "      <td>Bug</td>\n",
       "      <td>Poison</td>\n",
       "      <td>65</td>\n",
       "      <td>150</td>\n",
       "      <td>40</td>\n",
       "      <td>15</td>\n",
       "      <td>80</td>\n",
       "      <td>145</td>\n",
       "      <td>1</td>\n",
       "      <td>False</td>\n",
       "    </tr>\n",
       "    <tr>\n",
       "      <th>23</th>\n",
       "      <td>24</td>\n",
       "      <td>Mega Pidgeot</td>\n",
       "      <td>Normal</td>\n",
       "      <td>Flying</td>\n",
       "      <td>83</td>\n",
       "      <td>80</td>\n",
       "      <td>80</td>\n",
       "      <td>135</td>\n",
       "      <td>80</td>\n",
       "      <td>121</td>\n",
       "      <td>1</td>\n",
       "      <td>False</td>\n",
       "    </tr>\n",
       "    <tr>\n",
       "      <th>71</th>\n",
       "      <td>72</td>\n",
       "      <td>Mega Alakazam</td>\n",
       "      <td>Psychic</td>\n",
       "      <td>NaN</td>\n",
       "      <td>55</td>\n",
       "      <td>50</td>\n",
       "      <td>65</td>\n",
       "      <td>175</td>\n",
       "      <td>95</td>\n",
       "      <td>150</td>\n",
       "      <td>1</td>\n",
       "      <td>False</td>\n",
       "    </tr>\n",
       "    <tr>\n",
       "      <th>102</th>\n",
       "      <td>103</td>\n",
       "      <td>Mega Gengar</td>\n",
       "      <td>Ghost</td>\n",
       "      <td>Poison</td>\n",
       "      <td>60</td>\n",
       "      <td>65</td>\n",
       "      <td>80</td>\n",
       "      <td>170</td>\n",
       "      <td>95</td>\n",
       "      <td>130</td>\n",
       "      <td>1</td>\n",
       "      <td>False</td>\n",
       "    </tr>\n",
       "    <tr>\n",
       "      <th>109</th>\n",
       "      <td>110</td>\n",
       "      <td>Electrode</td>\n",
       "      <td>Electric</td>\n",
       "      <td>NaN</td>\n",
       "      <td>60</td>\n",
       "      <td>50</td>\n",
       "      <td>70</td>\n",
       "      <td>80</td>\n",
       "      <td>80</td>\n",
       "      <td>140</td>\n",
       "      <td>1</td>\n",
       "      <td>False</td>\n",
       "    </tr>\n",
       "  </tbody>\n",
       "</table>\n",
       "</div>"
      ],
      "text/plain": [
       "      ID           Name    Type 1  Type 2  HP  Attack  Defense  Sp. Atk  \\\n",
       "19    20  Mega Beedrill       Bug  Poison  65     150       40       15   \n",
       "23    24   Mega Pidgeot    Normal  Flying  83      80       80      135   \n",
       "71    72  Mega Alakazam   Psychic     NaN  55      50       65      175   \n",
       "102  103    Mega Gengar     Ghost  Poison  60      65       80      170   \n",
       "109  110      Electrode  Electric     NaN  60      50       70       80   \n",
       "\n",
       "     Sp. Def  Speed  Generation  Legendary  \n",
       "19        80    145           1      False  \n",
       "23        80    121           1      False  \n",
       "71        95    150           1      False  \n",
       "102       95    130           1      False  \n",
       "109       80    140           1      False  "
      ]
     },
     "execution_count": 44,
     "metadata": {},
     "output_type": "execute_result"
    }
   ],
   "source": [
    "#Getting the digimon that have speed > 70\n",
    "pokemon_fast = pokemon.loc[pokemon['Speed'] > 120]\n",
    "\n",
    "pokemon_fast.head()"
   ]
  },
  {
   "cell_type": "markdown",
   "metadata": {},
   "source": [
    "#### Conclusion\n",
    "\n",
    "All pokemon that are faster than 120 not grass pokemon."
   ]
  },
  {
   "cell_type": "markdown",
   "metadata": {},
   "source": [
    "### Creating a new DataFrame from specific data from multiple columns\n",
    "\n"
   ]
  },
  {
   "cell_type": "markdown",
   "metadata": {},
   "source": [
    "Suppose you wanted to get all the digimon that had the attribute Neutral or Light and were in stage Mega.\n",
    "Email me if you find a better way to do this.\n",
    "\n",
    "1: You want to make a data frame that contains all the Mega stage digimon."
   ]
  },
  {
   "cell_type": "code",
   "execution_count": 46,
   "metadata": {},
   "outputs": [],
   "source": [
    "#1 Getting the digimon that are stage mega \n",
    "digimon_mega= digimon.loc[digimon['Stage'] == 'Mega']"
   ]
  },
  {
   "cell_type": "markdown",
   "metadata": {},
   "source": [
    "2: Then create a data frame from the mega data frame that only contains the digimon with the Neutral Attribute"
   ]
  },
  {
   "cell_type": "code",
   "execution_count": 47,
   "metadata": {},
   "outputs": [],
   "source": [
    "#2 Finding the digimon that have the neutral attribute from the list of mega stage digimon\n",
    "digimon_mega_neutral = digimon_mega.loc[digimon_mega['Attribute'] == 'Neutral']"
   ]
  },
  {
   "cell_type": "markdown",
   "metadata": {},
   "source": [
    "3: Repeat the second step to create a data frame that only contains digimon that are in the mega stage and have the Light Attribute"
   ]
  },
  {
   "cell_type": "code",
   "execution_count": 48,
   "metadata": {},
   "outputs": [],
   "source": [
    "#3 Finding the digimon that have light attribute from the list of mega stage digimon\n",
    "digimon_mega_light = digimon_mega.loc[digimon_mega['Attribute'] == 'Light']"
   ]
  },
  {
   "cell_type": "markdown",
   "metadata": {},
   "source": [
    "4: Combine the 2 dataframes you just created."
   ]
  },
  {
   "cell_type": "code",
   "execution_count": 49,
   "metadata": {},
   "outputs": [
    {
     "data": {
      "text/html": [
       "<div>\n",
       "<style scoped>\n",
       "    .dataframe tbody tr th:only-of-type {\n",
       "        vertical-align: middle;\n",
       "    }\n",
       "\n",
       "    .dataframe tbody tr th {\n",
       "        vertical-align: top;\n",
       "    }\n",
       "\n",
       "    .dataframe thead th {\n",
       "        text-align: right;\n",
       "    }\n",
       "</style>\n",
       "<table border=\"1\" class=\"dataframe\">\n",
       "  <thead>\n",
       "    <tr style=\"text-align: right;\">\n",
       "      <th></th>\n",
       "      <th>Number</th>\n",
       "      <th>Digimon</th>\n",
       "      <th>Stage</th>\n",
       "      <th>Type</th>\n",
       "      <th>Attribute</th>\n",
       "      <th>Memory</th>\n",
       "      <th>Equip Slots</th>\n",
       "      <th>Lv 50 HP</th>\n",
       "      <th>Lv50 SP</th>\n",
       "      <th>Lv50 Atk</th>\n",
       "      <th>Lv50 Def</th>\n",
       "      <th>Lv50 Int</th>\n",
       "      <th>Lv50 Spd</th>\n",
       "    </tr>\n",
       "  </thead>\n",
       "  <tbody>\n",
       "    <tr>\n",
       "      <th>166</th>\n",
       "      <td>167</td>\n",
       "      <td>Alphamon</td>\n",
       "      <td>Mega</td>\n",
       "      <td>Vaccine</td>\n",
       "      <td>Neutral</td>\n",
       "      <td>22</td>\n",
       "      <td>1</td>\n",
       "      <td>1390</td>\n",
       "      <td>128</td>\n",
       "      <td>158</td>\n",
       "      <td>183</td>\n",
       "      <td>158</td>\n",
       "      <td>130</td>\n",
       "    </tr>\n",
       "    <tr>\n",
       "      <th>170</th>\n",
       "      <td>171</td>\n",
       "      <td>Imperialdramon FM</td>\n",
       "      <td>Mega</td>\n",
       "      <td>Free</td>\n",
       "      <td>Neutral</td>\n",
       "      <td>20</td>\n",
       "      <td>2</td>\n",
       "      <td>1780</td>\n",
       "      <td>114</td>\n",
       "      <td>198</td>\n",
       "      <td>124</td>\n",
       "      <td>114</td>\n",
       "      <td>153</td>\n",
       "    </tr>\n",
       "    <tr>\n",
       "      <th>186</th>\n",
       "      <td>187</td>\n",
       "      <td>Jesmon</td>\n",
       "      <td>Mega</td>\n",
       "      <td>Data</td>\n",
       "      <td>Neutral</td>\n",
       "      <td>22</td>\n",
       "      <td>1</td>\n",
       "      <td>1480</td>\n",
       "      <td>119</td>\n",
       "      <td>198</td>\n",
       "      <td>149</td>\n",
       "      <td>114</td>\n",
       "      <td>168</td>\n",
       "    </tr>\n",
       "    <tr>\n",
       "      <th>206</th>\n",
       "      <td>207</td>\n",
       "      <td>PlatinumNumemon</td>\n",
       "      <td>Mega</td>\n",
       "      <td>Virus</td>\n",
       "      <td>Neutral</td>\n",
       "      <td>16</td>\n",
       "      <td>3</td>\n",
       "      <td>1830</td>\n",
       "      <td>132</td>\n",
       "      <td>94</td>\n",
       "      <td>178</td>\n",
       "      <td>109</td>\n",
       "      <td>120</td>\n",
       "    </tr>\n",
       "    <tr>\n",
       "      <th>208</th>\n",
       "      <td>209</td>\n",
       "      <td>PrinceMamemon</td>\n",
       "      <td>Mega</td>\n",
       "      <td>Data</td>\n",
       "      <td>Neutral</td>\n",
       "      <td>16</td>\n",
       "      <td>3</td>\n",
       "      <td>1630</td>\n",
       "      <td>137</td>\n",
       "      <td>104</td>\n",
       "      <td>173</td>\n",
       "      <td>109</td>\n",
       "      <td>130</td>\n",
       "    </tr>\n",
       "    <tr>\n",
       "      <th>216</th>\n",
       "      <td>217</td>\n",
       "      <td>Mastemon</td>\n",
       "      <td>Mega</td>\n",
       "      <td>Vaccine</td>\n",
       "      <td>Neutral</td>\n",
       "      <td>22</td>\n",
       "      <td>1</td>\n",
       "      <td>1340</td>\n",
       "      <td>144</td>\n",
       "      <td>173</td>\n",
       "      <td>134</td>\n",
       "      <td>173</td>\n",
       "      <td>149</td>\n",
       "    </tr>\n",
       "    <tr>\n",
       "      <th>218</th>\n",
       "      <td>219</td>\n",
       "      <td>Minervamon</td>\n",
       "      <td>Mega</td>\n",
       "      <td>Virus</td>\n",
       "      <td>Neutral</td>\n",
       "      <td>20</td>\n",
       "      <td>1</td>\n",
       "      <td>1580</td>\n",
       "      <td>114</td>\n",
       "      <td>208</td>\n",
       "      <td>114</td>\n",
       "      <td>119</td>\n",
       "      <td>168</td>\n",
       "    </tr>\n",
       "    <tr>\n",
       "      <th>175</th>\n",
       "      <td>176</td>\n",
       "      <td>Ophanimon</td>\n",
       "      <td>Mega</td>\n",
       "      <td>Vaccine</td>\n",
       "      <td>Light</td>\n",
       "      <td>20</td>\n",
       "      <td>2</td>\n",
       "      <td>840</td>\n",
       "      <td>183</td>\n",
       "      <td>104</td>\n",
       "      <td>164</td>\n",
       "      <td>193</td>\n",
       "      <td>153</td>\n",
       "    </tr>\n",
       "    <tr>\n",
       "      <th>183</th>\n",
       "      <td>184</td>\n",
       "      <td>Kerpymon (Good)</td>\n",
       "      <td>Mega</td>\n",
       "      <td>Vaccine</td>\n",
       "      <td>Light</td>\n",
       "      <td>20</td>\n",
       "      <td>1</td>\n",
       "      <td>1290</td>\n",
       "      <td>188</td>\n",
       "      <td>94</td>\n",
       "      <td>104</td>\n",
       "      <td>208</td>\n",
       "      <td>158</td>\n",
       "    </tr>\n",
       "    <tr>\n",
       "      <th>185</th>\n",
       "      <td>186</td>\n",
       "      <td>Sakuyamon</td>\n",
       "      <td>Mega</td>\n",
       "      <td>Data</td>\n",
       "      <td>Light</td>\n",
       "      <td>18</td>\n",
       "      <td>3</td>\n",
       "      <td>990</td>\n",
       "      <td>178</td>\n",
       "      <td>94</td>\n",
       "      <td>114</td>\n",
       "      <td>188</td>\n",
       "      <td>173</td>\n",
       "    </tr>\n",
       "    <tr>\n",
       "      <th>187</th>\n",
       "      <td>188</td>\n",
       "      <td>ShineGreymon</td>\n",
       "      <td>Mega</td>\n",
       "      <td>Vaccine</td>\n",
       "      <td>Light</td>\n",
       "      <td>20</td>\n",
       "      <td>2</td>\n",
       "      <td>1880</td>\n",
       "      <td>114</td>\n",
       "      <td>203</td>\n",
       "      <td>109</td>\n",
       "      <td>84</td>\n",
       "      <td>158</td>\n",
       "    </tr>\n",
       "    <tr>\n",
       "      <th>188</th>\n",
       "      <td>189</td>\n",
       "      <td>Justimon</td>\n",
       "      <td>Mega</td>\n",
       "      <td>Vaccine</td>\n",
       "      <td>Light</td>\n",
       "      <td>18</td>\n",
       "      <td>3</td>\n",
       "      <td>1530</td>\n",
       "      <td>99</td>\n",
       "      <td>193</td>\n",
       "      <td>158</td>\n",
       "      <td>99</td>\n",
       "      <td>144</td>\n",
       "    </tr>\n",
       "    <tr>\n",
       "      <th>189</th>\n",
       "      <td>190</td>\n",
       "      <td>Kentaurosmon</td>\n",
       "      <td>Mega</td>\n",
       "      <td>Vaccine</td>\n",
       "      <td>Light</td>\n",
       "      <td>22</td>\n",
       "      <td>1</td>\n",
       "      <td>1140</td>\n",
       "      <td>153</td>\n",
       "      <td>139</td>\n",
       "      <td>154</td>\n",
       "      <td>154</td>\n",
       "      <td>183</td>\n",
       "    </tr>\n",
       "    <tr>\n",
       "      <th>190</th>\n",
       "      <td>191</td>\n",
       "      <td>Seraphimon</td>\n",
       "      <td>Mega</td>\n",
       "      <td>Vaccine</td>\n",
       "      <td>Light</td>\n",
       "      <td>20</td>\n",
       "      <td>2</td>\n",
       "      <td>1480</td>\n",
       "      <td>162</td>\n",
       "      <td>94</td>\n",
       "      <td>144</td>\n",
       "      <td>198</td>\n",
       "      <td>135</td>\n",
       "    </tr>\n",
       "    <tr>\n",
       "      <th>197</th>\n",
       "      <td>198</td>\n",
       "      <td>Gallantmon</td>\n",
       "      <td>Mega</td>\n",
       "      <td>Virus</td>\n",
       "      <td>Light</td>\n",
       "      <td>22</td>\n",
       "      <td>1</td>\n",
       "      <td>1480</td>\n",
       "      <td>148</td>\n",
       "      <td>149</td>\n",
       "      <td>154</td>\n",
       "      <td>149</td>\n",
       "      <td>148</td>\n",
       "    </tr>\n",
       "    <tr>\n",
       "      <th>199</th>\n",
       "      <td>200</td>\n",
       "      <td>Leopardmon</td>\n",
       "      <td>Mega</td>\n",
       "      <td>Data</td>\n",
       "      <td>Light</td>\n",
       "      <td>22</td>\n",
       "      <td>1</td>\n",
       "      <td>990</td>\n",
       "      <td>188</td>\n",
       "      <td>124</td>\n",
       "      <td>114</td>\n",
       "      <td>183</td>\n",
       "      <td>188</td>\n",
       "    </tr>\n",
       "    <tr>\n",
       "      <th>214</th>\n",
       "      <td>215</td>\n",
       "      <td>Magnadramon</td>\n",
       "      <td>Mega</td>\n",
       "      <td>Vaccine</td>\n",
       "      <td>Light</td>\n",
       "      <td>20</td>\n",
       "      <td>2</td>\n",
       "      <td>1880</td>\n",
       "      <td>168</td>\n",
       "      <td>89</td>\n",
       "      <td>124</td>\n",
       "      <td>183</td>\n",
       "      <td>129</td>\n",
       "    </tr>\n",
       "    <tr>\n",
       "      <th>246</th>\n",
       "      <td>247</td>\n",
       "      <td>MirageGaogamon BM</td>\n",
       "      <td>Mega</td>\n",
       "      <td>Data</td>\n",
       "      <td>Light</td>\n",
       "      <td>20</td>\n",
       "      <td>2</td>\n",
       "      <td>1440</td>\n",
       "      <td>124</td>\n",
       "      <td>178</td>\n",
       "      <td>104</td>\n",
       "      <td>158</td>\n",
       "      <td>174</td>\n",
       "    </tr>\n",
       "  </tbody>\n",
       "</table>\n",
       "</div>"
      ],
      "text/plain": [
       "     Number            Digimon Stage     Type Attribute  Memory  Equip Slots  \\\n",
       "166     167           Alphamon  Mega  Vaccine   Neutral      22            1   \n",
       "170     171  Imperialdramon FM  Mega     Free   Neutral      20            2   \n",
       "186     187             Jesmon  Mega     Data   Neutral      22            1   \n",
       "206     207    PlatinumNumemon  Mega    Virus   Neutral      16            3   \n",
       "208     209      PrinceMamemon  Mega     Data   Neutral      16            3   \n",
       "216     217           Mastemon  Mega  Vaccine   Neutral      22            1   \n",
       "218     219         Minervamon  Mega    Virus   Neutral      20            1   \n",
       "175     176          Ophanimon  Mega  Vaccine     Light      20            2   \n",
       "183     184    Kerpymon (Good)  Mega  Vaccine     Light      20            1   \n",
       "185     186          Sakuyamon  Mega     Data     Light      18            3   \n",
       "187     188       ShineGreymon  Mega  Vaccine     Light      20            2   \n",
       "188     189           Justimon  Mega  Vaccine     Light      18            3   \n",
       "189     190       Kentaurosmon  Mega  Vaccine     Light      22            1   \n",
       "190     191         Seraphimon  Mega  Vaccine     Light      20            2   \n",
       "197     198         Gallantmon  Mega    Virus     Light      22            1   \n",
       "199     200         Leopardmon  Mega     Data     Light      22            1   \n",
       "214     215        Magnadramon  Mega  Vaccine     Light      20            2   \n",
       "246     247  MirageGaogamon BM  Mega     Data     Light      20            2   \n",
       "\n",
       "     Lv 50 HP  Lv50 SP  Lv50 Atk  Lv50 Def  Lv50 Int  Lv50 Spd  \n",
       "166      1390      128       158       183       158       130  \n",
       "170      1780      114       198       124       114       153  \n",
       "186      1480      119       198       149       114       168  \n",
       "206      1830      132        94       178       109       120  \n",
       "208      1630      137       104       173       109       130  \n",
       "216      1340      144       173       134       173       149  \n",
       "218      1580      114       208       114       119       168  \n",
       "175       840      183       104       164       193       153  \n",
       "183      1290      188        94       104       208       158  \n",
       "185       990      178        94       114       188       173  \n",
       "187      1880      114       203       109        84       158  \n",
       "188      1530       99       193       158        99       144  \n",
       "189      1140      153       139       154       154       183  \n",
       "190      1480      162        94       144       198       135  \n",
       "197      1480      148       149       154       149       148  \n",
       "199       990      188       124       114       183       188  \n",
       "214      1880      168        89       124       183       129  \n",
       "246      1440      124       178       104       158       174  "
      ]
     },
     "execution_count": 49,
     "metadata": {},
     "output_type": "execute_result"
    }
   ],
   "source": [
    "#4 combining the mega stage digimon that have neutral attribute\n",
    "# and the mega stage digimon that have light attribute\n",
    "digimon_mega_neutral_light = pd.concat([digimon_mega_neutral, digimon_mega_light])\n",
    "\n",
    "digimon_mega_neutral_light"
   ]
  },
  {
   "cell_type": "markdown",
   "metadata": {},
   "source": [
    "### Combining DataFrames"
   ]
  },
  {
   "cell_type": "markdown",
   "metadata": {},
   "source": [
    "## Handling NaN"
   ]
  },
  {
   "cell_type": "markdown",
   "metadata": {},
   "source": [
    "### Counting number of NaN's"
   ]
  },
  {
   "cell_type": "markdown",
   "metadata": {},
   "source": [
    "We've imported a csv file that has missing data. The missing data is represented by NaN."
   ]
  },
  {
   "cell_type": "code",
   "execution_count": 59,
   "metadata": {},
   "outputs": [
    {
     "data": {
      "text/html": [
       "<div>\n",
       "<style scoped>\n",
       "    .dataframe tbody tr th:only-of-type {\n",
       "        vertical-align: middle;\n",
       "    }\n",
       "\n",
       "    .dataframe tbody tr th {\n",
       "        vertical-align: top;\n",
       "    }\n",
       "\n",
       "    .dataframe thead th {\n",
       "        text-align: right;\n",
       "    }\n",
       "</style>\n",
       "<table border=\"1\" class=\"dataframe\">\n",
       "  <thead>\n",
       "    <tr style=\"text-align: right;\">\n",
       "      <th></th>\n",
       "      <th>Bananas</th>\n",
       "      <th>Oranges</th>\n",
       "      <th>Apples</th>\n",
       "    </tr>\n",
       "  </thead>\n",
       "  <tbody>\n",
       "    <tr>\n",
       "      <th>0</th>\n",
       "      <td>1.0</td>\n",
       "      <td>1</td>\n",
       "      <td>NaN</td>\n",
       "    </tr>\n",
       "    <tr>\n",
       "      <th>1</th>\n",
       "      <td>2.0</td>\n",
       "      <td>2</td>\n",
       "      <td>NaN</td>\n",
       "    </tr>\n",
       "    <tr>\n",
       "      <th>2</th>\n",
       "      <td>3.0</td>\n",
       "      <td>3</td>\n",
       "      <td>1.0</td>\n",
       "    </tr>\n",
       "    <tr>\n",
       "      <th>3</th>\n",
       "      <td>NaN</td>\n",
       "      <td>4</td>\n",
       "      <td>2.0</td>\n",
       "    </tr>\n",
       "    <tr>\n",
       "      <th>4</th>\n",
       "      <td>NaN</td>\n",
       "      <td>5</td>\n",
       "      <td>3.0</td>\n",
       "    </tr>\n",
       "  </tbody>\n",
       "</table>\n",
       "</div>"
      ],
      "text/plain": [
       "   Bananas  Oranges  Apples\n",
       "0      1.0        1     NaN\n",
       "1      2.0        2     NaN\n",
       "2      3.0        3     1.0\n",
       "3      NaN        4     2.0\n",
       "4      NaN        5     3.0"
      ]
     },
     "execution_count": 59,
     "metadata": {},
     "output_type": "execute_result"
    }
   ],
   "source": [
    "fruit_in_pie = pd.read_csv('example_nan.csv')\n",
    "\n",
    "fruit_in_pie.head()"
   ]
  },
  {
   "cell_type": "markdown",
   "metadata": {},
   "source": [
    "If you want to see how many NaN values are in each column, then you type `my_dataframe.isnull().sum()` where my_dataframe is the name of the dataframe you are using."
   ]
  },
  {
   "cell_type": "code",
   "execution_count": 60,
   "metadata": {},
   "outputs": [
    {
     "data": {
      "text/plain": [
       "Bananas    2\n",
       "Oranges    0\n",
       "Apples     2\n",
       "dtype: int64"
      ]
     },
     "execution_count": 60,
     "metadata": {},
     "output_type": "execute_result"
    }
   ],
   "source": [
    "fruit_in_pie.isnull().sum()"
   ]
  },
  {
   "cell_type": "markdown",
   "metadata": {},
   "source": [
    "If you want to see how many NaN values are in each row, then you type `my_dataframe.isnull().sum(axis = 1)`"
   ]
  },
  {
   "cell_type": "code",
   "execution_count": 61,
   "metadata": {},
   "outputs": [
    {
     "data": {
      "text/plain": [
       "0    1\n",
       "1    1\n",
       "2    0\n",
       "3    1\n",
       "4    1\n",
       "dtype: int64"
      ]
     },
     "execution_count": 61,
     "metadata": {},
     "output_type": "execute_result"
    }
   ],
   "source": [
    "fruit_in_pie.isnull().sum(axis = 1)"
   ]
  },
  {
   "cell_type": "markdown",
   "metadata": {},
   "source": [
    "If you want to find out how many total NaN values you have than you do type `my_dataframe.isnull().sum().sum()`"
   ]
  },
  {
   "cell_type": "code",
   "execution_count": 51,
   "metadata": {},
   "outputs": [
    {
     "data": {
      "text/plain": [
       "4"
      ]
     },
     "execution_count": 51,
     "metadata": {},
     "output_type": "execute_result"
    }
   ],
   "source": [
    "fruit_in_pie.isnull().sum().sum()"
   ]
  },
  {
   "cell_type": "markdown",
   "metadata": {},
   "source": [
    "### Removing NaN's"
   ]
  },
  {
   "cell_type": "markdown",
   "metadata": {},
   "source": [
    "You can remove NaN values by removing any columns that contain NaN's or removing any rows that have NaN's.\n",
    "\n",
    "for more detailed information see https://chrisalbon.com/python/data_wrangling/pandas_missing_data/"
   ]
  },
  {
   "cell_type": "markdown",
   "metadata": {},
   "source": [
    "#### Removing Columns with NaN's"
   ]
  },
  {
   "cell_type": "markdown",
   "metadata": {},
   "source": [
    "If you want to create a new data frame without columns that have NaN's (so without Bananas and Apples) then you type `my_dataframe_without_NaN = my_dataframe.dropna(axis = 1)` \n",
    "\n",
    "If you want to just remove the columns with NaNs from your original dataframe, then you type `my_dataframe.dropna(axis = 1, inplace = True)`"
   ]
  },
  {
   "cell_type": "code",
   "execution_count": 62,
   "metadata": {},
   "outputs": [
    {
     "data": {
      "text/html": [
       "<div>\n",
       "<style scoped>\n",
       "    .dataframe tbody tr th:only-of-type {\n",
       "        vertical-align: middle;\n",
       "    }\n",
       "\n",
       "    .dataframe tbody tr th {\n",
       "        vertical-align: top;\n",
       "    }\n",
       "\n",
       "    .dataframe thead th {\n",
       "        text-align: right;\n",
       "    }\n",
       "</style>\n",
       "<table border=\"1\" class=\"dataframe\">\n",
       "  <thead>\n",
       "    <tr style=\"text-align: right;\">\n",
       "      <th></th>\n",
       "      <th>Oranges</th>\n",
       "    </tr>\n",
       "  </thead>\n",
       "  <tbody>\n",
       "    <tr>\n",
       "      <th>0</th>\n",
       "      <td>1</td>\n",
       "    </tr>\n",
       "    <tr>\n",
       "      <th>1</th>\n",
       "      <td>2</td>\n",
       "    </tr>\n",
       "    <tr>\n",
       "      <th>2</th>\n",
       "      <td>3</td>\n",
       "    </tr>\n",
       "    <tr>\n",
       "      <th>3</th>\n",
       "      <td>4</td>\n",
       "    </tr>\n",
       "    <tr>\n",
       "      <th>4</th>\n",
       "      <td>5</td>\n",
       "    </tr>\n",
       "  </tbody>\n",
       "</table>\n",
       "</div>"
      ],
      "text/plain": [
       "   Oranges\n",
       "0        1\n",
       "1        2\n",
       "2        3\n",
       "3        4\n",
       "4        5"
      ]
     },
     "execution_count": 62,
     "metadata": {},
     "output_type": "execute_result"
    }
   ],
   "source": [
    "#Removes all columns with NaN values\n",
    "no_nan_in_cols = fruit_in_pie.dropna(axis = 1)\n",
    "\n",
    "no_nan_in_cols"
   ]
  },
  {
   "cell_type": "markdown",
   "metadata": {},
   "source": [
    "If you want to create a new data frame without rows that have NaN's (so without rows 0, 1, 3, 4) then you type <br>`my_dataframe_without_NaN = my_dataframe.dropna(axis = 0)` <br>or <br>`my_dataframe_without_NaN = my_dataframe.dropna()` because the default value of axis is 0.\n",
    "\n",
    "If you want to just remove the rows with NaNs from your original dataframe, then you type <br>`my_dataframe.dropna(axis = 0, inplace = True)`<br> or <br>`my_dataframe.dropna(inplace = True)`"
   ]
  },
  {
   "cell_type": "code",
   "execution_count": 63,
   "metadata": {},
   "outputs": [
    {
     "data": {
      "text/html": [
       "<div>\n",
       "<style scoped>\n",
       "    .dataframe tbody tr th:only-of-type {\n",
       "        vertical-align: middle;\n",
       "    }\n",
       "\n",
       "    .dataframe tbody tr th {\n",
       "        vertical-align: top;\n",
       "    }\n",
       "\n",
       "    .dataframe thead th {\n",
       "        text-align: right;\n",
       "    }\n",
       "</style>\n",
       "<table border=\"1\" class=\"dataframe\">\n",
       "  <thead>\n",
       "    <tr style=\"text-align: right;\">\n",
       "      <th></th>\n",
       "      <th>Bananas</th>\n",
       "      <th>Oranges</th>\n",
       "      <th>Apples</th>\n",
       "    </tr>\n",
       "  </thead>\n",
       "  <tbody>\n",
       "    <tr>\n",
       "      <th>2</th>\n",
       "      <td>3.0</td>\n",
       "      <td>3</td>\n",
       "      <td>1.0</td>\n",
       "    </tr>\n",
       "  </tbody>\n",
       "</table>\n",
       "</div>"
      ],
      "text/plain": [
       "   Bananas  Oranges  Apples\n",
       "2      3.0        3     1.0"
      ]
     },
     "execution_count": 63,
     "metadata": {},
     "output_type": "execute_result"
    }
   ],
   "source": [
    "#Removes all rows with NaN values\n",
    "#default does axis = 0\n",
    "no_nan_in_rows = fruit_in_pie.dropna()\n",
    "no_nan_in_rows"
   ]
  },
  {
   "cell_type": "markdown",
   "metadata": {},
   "source": [
    "### Replacing NaN's"
   ]
  },
  {
   "cell_type": "code",
   "execution_count": null,
   "metadata": {},
   "outputs": [],
   "source": []
  },
  {
   "cell_type": "code",
   "execution_count": 54,
   "metadata": {},
   "outputs": [
    {
     "data": {
      "text/html": [
       "<div>\n",
       "<style scoped>\n",
       "    .dataframe tbody tr th:only-of-type {\n",
       "        vertical-align: middle;\n",
       "    }\n",
       "\n",
       "    .dataframe tbody tr th {\n",
       "        vertical-align: top;\n",
       "    }\n",
       "\n",
       "    .dataframe thead th {\n",
       "        text-align: right;\n",
       "    }\n",
       "</style>\n",
       "<table border=\"1\" class=\"dataframe\">\n",
       "  <thead>\n",
       "    <tr style=\"text-align: right;\">\n",
       "      <th></th>\n",
       "      <th>Bananas</th>\n",
       "      <th>Oranges</th>\n",
       "      <th>Apples</th>\n",
       "    </tr>\n",
       "  </thead>\n",
       "  <tbody>\n",
       "    <tr>\n",
       "      <th>0</th>\n",
       "      <td>1.0</td>\n",
       "      <td>1</td>\n",
       "      <td>50.0</td>\n",
       "    </tr>\n",
       "    <tr>\n",
       "      <th>1</th>\n",
       "      <td>2.0</td>\n",
       "      <td>2</td>\n",
       "      <td>50.0</td>\n",
       "    </tr>\n",
       "    <tr>\n",
       "      <th>2</th>\n",
       "      <td>3.0</td>\n",
       "      <td>3</td>\n",
       "      <td>1.0</td>\n",
       "    </tr>\n",
       "    <tr>\n",
       "      <th>3</th>\n",
       "      <td>100.0</td>\n",
       "      <td>4</td>\n",
       "      <td>2.0</td>\n",
       "    </tr>\n",
       "    <tr>\n",
       "      <th>4</th>\n",
       "      <td>NaN</td>\n",
       "      <td>5</td>\n",
       "      <td>3.0</td>\n",
       "    </tr>\n",
       "  </tbody>\n",
       "</table>\n",
       "</div>"
      ],
      "text/plain": [
       "   Bananas  Oranges  Apples\n",
       "0      1.0        1    50.0\n",
       "1      2.0        2    50.0\n",
       "2      3.0        3     1.0\n",
       "3    100.0        4     2.0\n",
       "4      NaN        5     3.0"
      ]
     },
     "execution_count": 54,
     "metadata": {},
     "output_type": "execute_result"
    }
   ],
   "source": [
    "replace_nan = fruit_in_pie.fillna(27)\n",
    "\n",
    "replace_nan\n",
    "\n",
    "fruit_in_pie['Apples'].fillna(50, inplace = True)\n",
    "\n",
    "fruit_in_pie\n",
    "\n",
    "fruit_in_pie.loc[3, 'Bananas'] = 100\n",
    "\n",
    "fruit_in_pie"
   ]
  },
  {
   "cell_type": "code",
   "execution_count": null,
   "metadata": {},
   "outputs": [],
   "source": []
  },
  {
   "cell_type": "code",
   "execution_count": null,
   "metadata": {},
   "outputs": [],
   "source": []
  },
  {
   "cell_type": "code",
   "execution_count": null,
   "metadata": {},
   "outputs": [],
   "source": []
  },
  {
   "cell_type": "markdown",
   "metadata": {},
   "source": [
    "## Resources\n",
    "\n",
    "How to make dataframes from csv files - https://chrisalbon.com/python/data_wrangling/pandas_dataframe_importing_csv/\n",
    "<br>pokemon csv file - https://www.kaggle.com/poornimashanbhag/pokemoncsv\n",
    "<br>digimon csv file - https://www.kaggle.com/rtatman/digidb\n",
    "<br> How to use get specific columns from a csv file - https://stackoverflow.com/questions/26063231/read-specific-columns-with-pandas-or-other-python-module\n",
    "<br> How to combine DataFrames - https://pandas.pydata.org/pandas-docs/stable/merging.html\n",
    "<br> How to count NaN values in DataFrames - https://www.dataoptimal.com/data-cleaning-with-python-2018/"
   ]
  },
  {
   "cell_type": "code",
   "execution_count": null,
   "metadata": {},
   "outputs": [],
   "source": []
  },
  {
   "cell_type": "code",
   "execution_count": null,
   "metadata": {},
   "outputs": [],
   "source": []
  }
 ],
 "metadata": {
  "kernelspec": {
   "display_name": "Python [default]",
   "language": "python",
   "name": "python3"
  },
  "language_info": {
   "codemirror_mode": {
    "name": "ipython",
    "version": 3
   },
   "file_extension": ".py",
   "mimetype": "text/x-python",
   "name": "python",
   "nbconvert_exporter": "python",
   "pygments_lexer": "ipython3",
   "version": "3.6.5"
  },
  "toc": {
   "base_numbering": 1,
   "nav_menu": {},
   "number_sections": true,
   "sideBar": true,
   "skip_h1_title": true,
   "title_cell": "Table of Contents",
   "title_sidebar": "Contents",
   "toc_cell": true,
   "toc_position": {},
   "toc_section_display": true,
   "toc_window_display": true
  }
 },
 "nbformat": 4,
 "nbformat_minor": 2
}
