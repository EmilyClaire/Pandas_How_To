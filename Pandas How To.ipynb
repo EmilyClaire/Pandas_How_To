{
 "cells": [
  {
   "cell_type": "markdown",
   "metadata": {},
   "source": [
    "# How To Use Pandas"
   ]
  },
  {
   "cell_type": "markdown",
   "metadata": {},
   "source": [
    "This tutorial will go over how to create and manipulate Pandas Series and DataFrames."
   ]
  },
  {
   "cell_type": "markdown",
   "metadata": {},
   "source": [
    "## Table of Contents"
   ]
  },
  {
   "cell_type": "markdown",
   "metadata": {},
   "source": [
    "<br>[Getting Started](#Getting-Started)\n",
    " - [Importing Pandas](#Importing-Pandas)\n"
   ]
  },
  {
   "cell_type": "markdown",
   "metadata": {},
   "source": [
    "## Getting Started"
   ]
  },
  {
   "cell_type": "markdown",
   "metadata": {},
   "source": [
    "### Importing Pandas\n",
    "\n",
    "To import Pandas type:\n",
    "<br> 'import pandas as pd'"
   ]
  },
  {
   "cell_type": "code",
   "execution_count": 2,
   "metadata": {},
   "outputs": [],
   "source": [
    "#How to import pandas\n",
    "\n",
    "import pandas as pd"
   ]
  },
  {
   "cell_type": "markdown",
   "metadata": {},
   "source": [
    "## Information on Series and DataFrames "
   ]
  },
  {
   "cell_type": "markdown",
   "metadata": {},
   "source": [
    "### What is a Series?"
   ]
  },
  {
   "cell_type": "markdown",
   "metadata": {},
   "source": [
    "### What is a DataFrame"
   ]
  },
  {
   "cell_type": "markdown",
   "metadata": {},
   "source": [
    "### When to use a Series"
   ]
  },
  {
   "cell_type": "markdown",
   "metadata": {},
   "source": [
    "### When to use a DataFrame?"
   ]
  },
  {
   "cell_type": "markdown",
   "metadata": {},
   "source": [
    "## Creating a Series"
   ]
  },
  {
   "cell_type": "markdown",
   "metadata": {},
   "source": [
    "### Creating a Series from a dictionary"
   ]
  },
  {
   "cell_type": "markdown",
   "metadata": {},
   "source": [
    "## Creating a DataFrame"
   ]
  },
  {
   "cell_type": "markdown",
   "metadata": {},
   "source": [
    "### Creating a DataFrame from multiple Series"
   ]
  },
  {
   "cell_type": "markdown",
   "metadata": {},
   "source": [
    "### Creating a DataFrame from a CSV"
   ]
  },
  {
   "cell_type": "markdown",
   "metadata": {},
   "source": [
    "#### Importing the Whole CSV File\n",
    "\n",
    "If you want to import everything from your .csv file then you simply do use this code\n",
    "\n",
    "`my_dataframe = pd.read_csv('my_csv.csv')`\n",
    "\n",
    "`'my_csv.csv'` is the location of the csv file relative to where the jupyter notebook is. If the file is in the same folder as the jupyter notebook then you can just do the name of the file. If the file is somewhere else then you have to use the path of the file name."
   ]
  },
  {
   "cell_type": "code",
   "execution_count": 5,
   "metadata": {},
   "outputs": [
    {
     "name": "stdout",
     "output_type": "stream",
     "text": [
      "   ID           Name Type 1  Type 2  HP  Attack  Defense  Sp. Atk  Sp. Def  \\\n",
      "0   1      Bulbasaur  Grass  Poison  45      49       49       65       65   \n",
      "1   2        Ivysaur  Grass  Poison  60      62       63       80       80   \n",
      "2   3       Venusaur  Grass  Poison  80      82       83      100      100   \n",
      "3   4  Mega Venusaur  Grass  Poison  80     100      123      122      120   \n",
      "4   5     Charmander   Fire     NaN  39      52       43       60       50   \n",
      "\n",
      "   Speed  Generation  Legendary  \n",
      "0     45           1      False  \n",
      "1     60           1      False  \n",
      "2     80           1      False  \n",
      "3     80           1      False  \n",
      "4     65           1      False  \n"
     ]
    }
   ],
   "source": [
    "#File in same folder\n",
    "pokemon = pd.read_csv('pokemon.csv')\n",
    "\n",
    "print(pokemon.head())"
   ]
  },
  {
   "cell_type": "code",
   "execution_count": 6,
   "metadata": {},
   "outputs": [
    {
     "name": "stdout",
     "output_type": "stream",
     "text": [
      "   Number  Digimon Stage  Type Attribute  Memory  Equip Slots  Lv 50 HP  \\\n",
      "0       1  Kuramon  Baby  Free   Neutral       2            0       590   \n",
      "1       2  Pabumon  Baby  Free   Neutral       2            0       950   \n",
      "2       3  Punimon  Baby  Free   Neutral       2            0       870   \n",
      "3       4  Botamon  Baby  Free   Neutral       2            0       690   \n",
      "4       5  Poyomon  Baby  Free   Neutral       2            0       540   \n",
      "\n",
      "   Lv50 SP  Lv50 Atk  Lv50 Def  Lv50 Int  Lv50 Spd  \n",
      "0       77        79        69        68        95  \n",
      "1       62        76        76        69        68  \n",
      "2       50        97        87        50        75  \n",
      "3       68        77        95        76        61  \n",
      "4       98        54        59        95        86  \n"
     ]
    }
   ],
   "source": [
    "#File in a sub folder\n",
    "\n",
    "digimon = pd.read_csv('example/DigiDB_digimonlist.csv')\n",
    "\n",
    "print(digimon.head())"
   ]
  },
  {
   "cell_type": "markdown",
   "metadata": {},
   "source": [
    "#### Importing Specific Columns from a CSV file\n",
    "If you only want certain columns from a csv file, then you need to use 'usecols'. \n",
    "Example:  `my_dataframe = pd.read_csv('my_csv.csv', usecols = ['Name of column1', 'Name of column 2'])`\n"
   ]
  },
  {
   "cell_type": "code",
   "execution_count": 15,
   "metadata": {},
   "outputs": [
    {
     "name": "stdout",
     "output_type": "stream",
     "text": [
      "            Name Type 1  Type 2\n",
      "0      Bulbasaur  Grass  Poison\n",
      "1        Ivysaur  Grass  Poison\n",
      "2       Venusaur  Grass  Poison\n",
      "3  Mega Venusaur  Grass  Poison\n",
      "4     Charmander   Fire     NaN\n"
     ]
    }
   ],
   "source": [
    "pokemon_name_types = pd.read_csv('pokemon.csv', usecols = ['Name', 'Type 1', 'Type 2'])\n",
    "\n",
    "print(pokemon_name_types.head())"
   ]
  },
  {
   "cell_type": "markdown",
   "metadata": {},
   "source": [
    "## Accessing a Series"
   ]
  },
  {
   "cell_type": "markdown",
   "metadata": {},
   "source": [
    "## Accessing a DataFrame"
   ]
  },
  {
   "cell_type": "markdown",
   "metadata": {},
   "source": [
    "## Manipulating a Series"
   ]
  },
  {
   "cell_type": "markdown",
   "metadata": {},
   "source": [
    "### Adding"
   ]
  },
  {
   "cell_type": "markdown",
   "metadata": {},
   "source": [
    "## Manipulating a DataFrame"
   ]
  },
  {
   "cell_type": "markdown",
   "metadata": {},
   "source": [
    "### Combining DataFrames"
   ]
  },
  {
   "cell_type": "markdown",
   "metadata": {},
   "source": [
    "## NaN"
   ]
  },
  {
   "cell_type": "markdown",
   "metadata": {},
   "source": [
    "# Resources\n",
    "\n",
    "how to make dataframes from csv files - https://chrisalbon.com/python/data_wrangling/pandas_dataframe_importing_csv/\n",
    "<br>pokemon csv file - https://www.kaggle.com/poornimashanbhag/pokemoncsv\n",
    "<br>digimon csv file - https://www.kaggle.com/rtatman/digidb"
   ]
  },
  {
   "cell_type": "code",
   "execution_count": null,
   "metadata": {},
   "outputs": [],
   "source": []
  }
 ],
 "metadata": {
  "kernelspec": {
   "display_name": "Python [default]",
   "language": "python",
   "name": "python3"
  },
  "language_info": {
   "codemirror_mode": {
    "name": "ipython",
    "version": 3
   },
   "file_extension": ".py",
   "mimetype": "text/x-python",
   "name": "python",
   "nbconvert_exporter": "python",
   "pygments_lexer": "ipython3",
   "version": "3.6.5"
  }
 },
 "nbformat": 4,
 "nbformat_minor": 2
}
